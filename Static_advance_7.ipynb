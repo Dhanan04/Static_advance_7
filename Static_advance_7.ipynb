{
 "cells": [
  {
   "cell_type": "code",
   "execution_count": 1,
   "id": "cc5a224c",
   "metadata": {},
   "outputs": [
    {
     "name": "stdout",
     "output_type": "stream",
     "text": [
      "F-value: 1.0\n",
      "p-value: 0.3465935070873342\n"
     ]
    }
   ],
   "source": [
    "#Ans1.) \n",
    "\n",
    "import numpy as np\n",
    "import scipy.stats as stats\n",
    "\n",
    "def variance_ratio_test(data1, data2):\n",
    "    f_value, p_value = stats.f_oneway(data1, data2)\n",
    "    return f_value, p_value\n",
    "\n",
    "# Example usage:\n",
    "data1 = np.array([1, 2, 3, 4, 5])\n",
    "data2 = np.array([2, 3, 4, 5, 6])\n",
    "f_value, p_value = variance_ratio_test(data1, data2)\n",
    "print(\"F-value:\", f_value)\n",
    "print(\"p-value:\", p_value)\n"
   ]
  },
  {
   "cell_type": "code",
   "execution_count": null,
   "id": "01f20b62",
   "metadata": {},
   "outputs": [],
   "source": []
  },
  {
   "cell_type": "code",
   "execution_count": 2,
   "id": "b439ba04",
   "metadata": {},
   "outputs": [
    {
     "name": "stdout",
     "output_type": "stream",
     "text": [
      "Critical F-value: 3.8586986662732143\n"
     ]
    }
   ],
   "source": [
    "#Ans2.)\n",
    "\n",
    "def critical_f_value(alpha, dfn, dfd):\n",
    "    return stats.f.ppf(1 - alpha / 2, dfn, dfd)\n",
    "\n",
    "# Example usage:\n",
    "alpha = 0.05\n",
    "dfn = 3  # Degrees of freedom for the numerator\n",
    "dfd = 20  # Degrees of freedom for the denominator\n",
    "critical_f = critical_f_value(alpha, dfn, dfd)\n",
    "print(\"Critical F-value:\", critical_f)\n"
   ]
  },
  {
   "cell_type": "code",
   "execution_count": null,
   "id": "a3e2b1dc",
   "metadata": {},
   "outputs": [],
   "source": []
  },
  {
   "cell_type": "code",
   "execution_count": 10,
   "id": "8f582fab",
   "metadata": {},
   "outputs": [
    {
     "name": "stdout",
     "output_type": "stream",
     "text": [
      "F-value: 0.017870136697865177\n",
      "Degrees of freedom (numerator): 99\n",
      "Degrees of freedom (denominator): 99\n",
      "p-value: 0.8937920016622611\n"
     ]
    }
   ],
   "source": [
    "#Ans3.)\n",
    "\n",
    "def f_test_variances(data1, data2):\n",
    "    f_value, p_value = stats.f_oneway(data1, data2)\n",
    "    return f_value, len(data1) - 1, len(data2) - 1, p_value\n",
    "\n",
    "# Example usage:\n",
    "data1 = np.random.normal(loc=0, scale=1, size=100)\n",
    "data2 = np.random.normal(loc=0, scale=1.5, size=100)\n",
    "f_value, dfn, dfd, p_value = f_test_variances(data1, data2)\n",
    "print(\"F-value:\", f_value)\n",
    "print(\"Degrees of freedom (numerator):\", dfn)\n",
    "print(\"Degrees of freedom (denominator):\", dfd)\n",
    "print(\"p-value:\", p_value)\n"
   ]
  },
  {
   "cell_type": "code",
   "execution_count": null,
   "id": "5ec4145f",
   "metadata": {},
   "outputs": [],
   "source": []
  },
  {
   "cell_type": "code",
   "execution_count": 7,
   "id": "e460a378",
   "metadata": {},
   "outputs": [
    {
     "name": "stdout",
     "output_type": "stream",
     "text": [
      "Critical F-value: 2.8179304699530863\n"
     ]
    }
   ],
   "source": [
    "#Ans4.)\n",
    "\n",
    "alpha = 0.05\n",
    "f_critical = stats.f.ppf(1 - alpha, 11, 11)  # Degrees of freedom for both populations are 12-1 = 11\n",
    "print(\"Critical F-value:\", f_critical)\n"
   ]
  },
  {
   "cell_type": "markdown",
   "id": "3429ce75",
   "metadata": {},
   "source": [
    "Since the observed F-value exceeds the critical value, we reject the null hypothesis and conclude that the variances are significantly different"
   ]
  },
  {
   "cell_type": "code",
   "execution_count": null,
   "id": "f1ba55d1",
   "metadata": {},
   "outputs": [],
   "source": []
  },
  {
   "cell_type": "code",
   "execution_count": 8,
   "id": "76960f7b",
   "metadata": {},
   "outputs": [
    {
     "name": "stdout",
     "output_type": "stream",
     "text": [
      "p-value: 0.6706345317182756\n"
     ]
    }
   ],
   "source": [
    "#Ans5.)\n",
    "\n",
    "alpha = 0.01\n",
    "f_value = (0.006 / 0.005)\n",
    "dfn = 24  # degrees of freedom for sample variance\n",
    "dfd = 24  # degrees of freedom for population variance\n",
    "p_value = stats.f.cdf(f_value, dfn, dfd)\n",
    "print(\"p-value:\", p_value)\n"
   ]
  },
  {
   "cell_type": "code",
   "execution_count": null,
   "id": "f4deed73",
   "metadata": {},
   "outputs": [],
   "source": []
  },
  {
   "cell_type": "code",
   "execution_count": 9,
   "id": "334cf798",
   "metadata": {},
   "outputs": [
    {
     "name": "stdout",
     "output_type": "stream",
     "text": [
      "Mean: 1.25\n",
      "Variance: 1.3541666666666667\n"
     ]
    }
   ],
   "source": [
    "#Ans6.)\n",
    "\n",
    "def f_distribution_mean_variance(dfn, dfd):\n",
    "    mean = dfd / (dfd - 2)\n",
    "    variance = (2 * dfd ** 2 * (dfn + dfd - 2)) / (dfn * (dfd - 2) ** 2 * (dfd - 4))\n",
    "    return mean, variance\n",
    "\n",
    "# Example usage:\n",
    "dfn = 5\n",
    "dfd = 10\n",
    "mean, variance = f_distribution_mean_variance(dfn, dfd)\n",
    "print(\"Mean:\", mean)\n",
    "print(\"Variance:\", variance)\n"
   ]
  },
  {
   "cell_type": "code",
   "execution_count": null,
   "id": "3f2ea6b8",
   "metadata": {},
   "outputs": [],
   "source": []
  },
  {
   "cell_type": "code",
   "execution_count": 11,
   "id": "2fc2ffe8",
   "metadata": {},
   "outputs": [
    {
     "name": "stdout",
     "output_type": "stream",
     "text": [
      "F-value: 1.25\n",
      "p-value: 0.6583902808707023\n",
      "Fail to reject null hypothesis: Variances are not significantly different\n"
     ]
    }
   ],
   "source": [
    "#Ans7.)\n",
    "\n",
    "alpha = 0.10\n",
    "f_value = 25 / 20  # F-value is the ratio of sample variances\n",
    "dfn = 9  # degrees of freedom for sample variance 1\n",
    "dfd = 14  # degrees of freedom for sample variance 2\n",
    "p_value = stats.f.cdf(f_value, dfn, dfd)\n",
    "\n",
    "print(\"F-value:\", f_value)\n",
    "print(\"p-value:\", p_value)\n",
    "if p_value < alpha:\n",
    "    print(\"Reject null hypothesis: Variances are significantly different\")\n",
    "else:\n",
    "    print(\"Fail to reject null hypothesis: Variances are not significantly different\")\n"
   ]
  },
  {
   "cell_type": "code",
   "execution_count": null,
   "id": "e0e4b27a",
   "metadata": {},
   "outputs": [],
   "source": []
  },
  {
   "cell_type": "code",
   "execution_count": 12,
   "id": "a8046d0a",
   "metadata": {},
   "outputs": [
    {
     "name": "stdout",
     "output_type": "stream",
     "text": [
      "F-value: 36.42289051820553\n",
      "p-value: 8.48759371471029e-05\n",
      "Reject null hypothesis: Variances are significantly different\n"
     ]
    }
   ],
   "source": [
    "#Ans8.)\n",
    "\n",
    "alpha = 0.05\n",
    "restaurant_A = [24, 25, 28, 23, 22, 20, 27]\n",
    "restaurant_B = [31, 33, 35, 30, 32, 36]\n",
    "\n",
    "f_value, p_value = stats.f_oneway(restaurant_A, restaurant_B)\n",
    "\n",
    "print(\"F-value:\", f_value)\n",
    "print(\"p-value:\", p_value)\n",
    "if p_value < alpha:\n",
    "    print(\"Reject null hypothesis: Variances are significantly different\")\n",
    "else:\n",
    "    print(\"Fail to reject null hypothesis: Variances are not significantly different\")\n"
   ]
  },
  {
   "cell_type": "code",
   "execution_count": null,
   "id": "6acd01c7",
   "metadata": {},
   "outputs": [],
   "source": []
  },
  {
   "cell_type": "code",
   "execution_count": 13,
   "id": "22a237d2",
   "metadata": {},
   "outputs": [
    {
     "name": "stdout",
     "output_type": "stream",
     "text": [
      "F-value: 8.040089086859687\n",
      "p-value: 0.017684171924487787\n",
      "Fail to reject null hypothesis: Variances are not significantly different\n"
     ]
    }
   ],
   "source": [
    "#Ans9.)\n",
    "\n",
    "alpha = 0.01\n",
    "group_A = [80, 85, 90, 92, 87, 83]\n",
    "group_B = [75, 78, 82, 79, 81, 84]\n",
    "\n",
    "f_value, p_value = stats.f_oneway(group_A, group_B)\n",
    "\n",
    "print(\"F-value:\", f_value)\n",
    "print(\"p-value:\", p_value)\n",
    "if p_value < alpha:\n",
    "    print(\"Reject null hypothesis: Variances are significantly different\")\n",
    "else:\n",
    "    print(\"Fail to reject null hypothesis: Variances are not significantly different\")\n"
   ]
  },
  {
   "cell_type": "code",
   "execution_count": null,
   "id": "fbf52eb7",
   "metadata": {},
   "outputs": [],
   "source": []
  },
  {
   "cell_type": "code",
   "execution_count": null,
   "id": "a3d85921",
   "metadata": {},
   "outputs": [],
   "source": []
  }
 ],
 "metadata": {
  "kernelspec": {
   "display_name": "Python 3 (ipykernel)",
   "language": "python",
   "name": "python3"
  },
  "language_info": {
   "codemirror_mode": {
    "name": "ipython",
    "version": 3
   },
   "file_extension": ".py",
   "mimetype": "text/x-python",
   "name": "python",
   "nbconvert_exporter": "python",
   "pygments_lexer": "ipython3",
   "version": "3.11.4"
  }
 },
 "nbformat": 4,
 "nbformat_minor": 5
}
